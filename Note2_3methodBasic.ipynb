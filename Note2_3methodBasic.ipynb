{
 "cells": [
  {
   "cell_type": "markdown",
   "metadata": {},
   "source": [
    "# 1. Foundation + Copy "
   ]
  },
  {
   "cell_type": "markdown",
   "metadata": {},
   "source": [
    "### **Tóm tắt về các phương pháp gợi ý**\n",
    "\n",
    "| **Phương pháp**                       | **Most Popular (Phổ biến nhất)**                    | **Content-Based Filtering**                         | **Collaborative Filtering**                       | **Hybrid (Kết hợp Content-Based Filtering và Collaborative Filtering)**                              |\n",
    "|--------------------------------------|----------------------------------------------------|----------------------------------------------------|--------------------------------------------------|-----------------------------------------------------------|\n",
    "| **Cách hoạt động**                   | Đề xuất **các sản phẩm phổ biến nhất** mà nhiều người mua hoặc đánh giá cao. | Dựa trên **nội dung** của các sản phẩm (thể loại, diễn viên, mô tả). | Dựa trên **hành vi của người dùng** (lịch sử xem, mua hàng). | Kết hợp **nội dung sản phẩm** và **hành vi người dùng**. |\n",
    "| **Ý tưởng chính**                    | Đưa ra các sản phẩm **được yêu thích nhất** bởi nhiều người dùng. | Gợi ý sản phẩm **giống với những gì bạn đã thích**. | Gợi ý dựa trên **những người có sở thích giống bạn**. | Tìm ra **những sản phẩm phù hợp nhất** dựa trên cả hai phương pháp. |\n",
    "| **Ví dụ dễ hiểu**                    | Bạn là người dùng mới → Gợi ý sản phẩm phổ biến như iPhone, áo phông trắng. | Bạn thích áo phông đen → Gợi ý các áo phông tương tự. | Bạn và bạn A đều thích Marvel → Gợi ý phim Marvel bạn chưa xem. | Bạn vừa xem phim Marvel, và người dùng tương tự thích Doctor Strange → Gợi ý Doctor Strange. |\n",
    "| **Ưu điểm**                          | Đơn giản, dễ triển khai và hiệu quả khi **không có nhiều dữ liệu**. | Tập trung vào **sở thích cá nhân** của từng người dùng. | Tìm ra các mục **mới mà bạn có thể thích** dựa trên cộng đồng. | **Tăng độ chính xác** và giải quyết vấn đề **cold start**. |\n",
    "| **Nhược điểm**                       | Thiếu **cá nhân hóa**, không phù hợp cho người dùng có sở thích đặc biệt. | Khó gợi ý sản phẩm mới mà bạn chưa từng tương tác. | Cần nhiều **dữ liệu từ người dùng** khác để hoạt động tốt. | Phức tạp hơn trong **triển khai và tối ưu**. |\n",
    "\n",
    "---\n",
    "\n"
   ]
  },
  {
   "cell_type": "markdown",
   "metadata": {},
   "source": [
    "# 2. Best Practices\n"
   ]
  },
  {
   "cell_type": "markdown",
   "metadata": {},
   "source": [
    "Các hệ thống gợi ý hàng đầu như Netflix, YouTube, Amazon, Spotify và TikTok sử dụng các phương pháp tiên tiến để cung cấp trải nghiệm cá nhân hóa cho người dùng. Dưới đây là bảng chi tiết về các phương pháp này:\n",
    "\n",
    "| **Nền tảng** | **Phương pháp gợi ý** | **Mô tả chi tiết** | **Ví dụ cụ thể** |\n",
    "|--------------|-----------------------|--------------------|------------------|\n",
    "| **Netflix** | **Hệ thống gợi ý kết hợp (Hybrid Recommender System)** | Netflix sử dụng sự kết hợp giữa **Collaborative Filtering** và **Content-Based Filtering**. Hệ thống phân tích hành vi người dùng, như lịch sử xem và đánh giá, cùng với các đặc điểm nội dung của phim để đưa ra gợi ý chính xác.  | Nếu bạn thường xem phim khoa học viễn tưởng và đánh giá cao các phim có nữ chính mạnh mẽ, Netflix sẽ gợi ý các phim tương tự với những đặc điểm này. |\n",
    "| **YouTube** | **Deep Learning và Reinforcement Learning** | YouTube áp dụng **Deep Neural Networks (DNNs)** để phân tích lịch sử xem, lượt thích và tìm kiếm của người dùng. Đồng thời, sử dụng **Reinforcement Learning** để tối ưu hóa gợi ý dựa trên phản hồi tức thì từ người dùng.  | Nếu bạn xem nhiều video về âm nhạc K-pop, YouTube sẽ gợi ý thêm các video liên quan, bao gồm các bản phát hành mới từ các kênh bạn theo dõi. |\n",
    "| **Amazon** | **Collaborative Filtering và Học sâu (Deep Learning)** | Amazon sử dụng **Collaborative Filtering** để gợi ý sản phẩm dựa trên hành vi mua sắm của người dùng khác. Ngoài ra, Amazon áp dụng **Deep Learning** để phân tích lịch sử mua hàng, lượt xem và tìm kiếm, nhằm cung cấp gợi ý cá nhân hóa.  | Nếu bạn đã mua một máy pha cà phê, Amazon có thể gợi ý các sản phẩm liên quan như cốc cà phê, hạt cà phê và phụ kiện vệ sinh. |\n",
    "| **Spotify** | **Collaborative Filtering và Phân tích nội dung âm thanh** | Spotify sử dụng **Collaborative Filtering** để tạo danh sách phát như \"Discover Weekly\", dựa trên sở thích âm nhạc của người dùng và những người nghe khác. Đồng thời, Spotify phân tích các đặc điểm âm thanh như tempo, thể loại và nhịp điệu để gợi ý các bài hát tương tự.  | Nếu bạn thường nghe nhạc jazz, Spotify sẽ gợi ý những bài hát có nhịp điệu và phong cách tương tự trong danh sách \"Daily Mix\" của bạn. |\n",
    "| **TikTok** | **Deep Learning và Phân tích nội dung video** | TikTok sử dụng **Deep Learning** để phân tích tương tác của người dùng, như lượt xem, thả tim và bình luận. Đồng thời, TikTok phân tích nội dung video và mô tả để gợi ý video phù hợp nhất.  | Nếu bạn tương tác với nhiều video về thú cưng, TikTok sẽ ưu tiên hiển thị các video chó mèo trên trang \"For You\" của bạn. |\n",
    "\n",
    "Các nền tảng này liên tục cải tiến hệ thống gợi ý của mình để cung cấp trải nghiệm người dùng tốt hơn, giữ chân người dùng và tăng cường sự hài lòng. "
   ]
  },
  {
   "cell_type": "markdown",
   "metadata": {},
   "source": []
  }
 ],
 "metadata": {
  "language_info": {
   "name": "python"
  }
 },
 "nbformat": 4,
 "nbformat_minor": 2
}
