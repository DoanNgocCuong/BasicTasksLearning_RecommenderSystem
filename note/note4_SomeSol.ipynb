{
 "cells": [
  {
   "cell_type": "markdown",
   "metadata": {},
   "source": [
    "- https://github.com/nicolaivicol/otto-recommender\n",
    "- https://github.com/cdeotte/Kaggle-OTTO-Comp\n"
   ]
  },
  {
   "cell_type": "markdown",
   "metadata": {},
   "source": [
    "Thầy thích survey : \n",
    "- Giới thiệu \n",
    "- Data\n",
    "- Phương pháp \n",
    "- Kết quả các thứ \n",
    "- ..."
   ]
  }
 ],
 "metadata": {
  "language_info": {
   "name": "python"
  }
 },
 "nbformat": 4,
 "nbformat_minor": 2
}
